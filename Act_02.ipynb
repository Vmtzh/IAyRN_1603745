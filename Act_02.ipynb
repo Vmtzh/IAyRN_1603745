{
  "nbformat": 4,
  "nbformat_minor": 0,
  "metadata": {
    "colab": {
      "provenance": [],
      "collapsed_sections": [],
      "authorship_tag": "ABX9TyOWhd4oqNv6+9i2nCflnjjA",
      "include_colab_link": true
    },
    "kernelspec": {
      "name": "python3",
      "display_name": "Python 3"
    },
    "language_info": {
      "name": "python"
    }
  },
  "cells": [
    {
      "cell_type": "markdown",
      "metadata": {
        "id": "view-in-github",
        "colab_type": "text"
      },
      "source": [
        "<a href=\"https://colab.research.google.com/github/Vmtzh/IAyRN_1603745/blob/main/Act_02.ipynb\" target=\"_parent\"><img src=\"https://colab.research.google.com/assets/colab-badge.svg\" alt=\"Open In Colab\"/></a>"
      ]
    },
    {
      "cell_type": "markdown",
      "source": [
        "# Act 2\n",
        "#### Ejercicio 1\n",
        "\n",
        "Escribe un programa que le pida al usuario por su nombre y que lo salude con su nombre, excepto si se llama “Ana”, “Juan”, y “Pedro”. "
      ],
      "metadata": {
        "id": "CR0ymsY_SSDG"
      }
    },
    {
      "cell_type": "code",
      "source": [
        "nombre1=\"Ana\"\n",
        "nombre2=\"ana\"\n",
        "nombre3=\"Juan\"\n",
        "nombre4=\"juan\"\n",
        "nombre5=\"Pedro\"\n",
        "nombre6=\"pedro\"\n",
        "print(\"¿Cual es su nombre?\")\n",
        "nombre = input()\n",
        "if nombre == nombre1 or nombre == nombre2 or nombre == nombre3 or nombre == nombre4 or nombre == nombre5 or nombre == nombre6:\n",
        "  print(\"Hola Bienvenido\")\n",
        "else:\n",
        "  print(\"Hola\", nombre, \"Bienvenido\")"
      ],
      "metadata": {
        "id": "490rlGUBR7Cg"
      },
      "execution_count": null,
      "outputs": []
    },
    {
      "cell_type": "markdown",
      "source": [
        "#### Ejercicio 2\n",
        "\n",
        " Escribe una función que regrese el último elemento de una lista y que revierta el orden de la lista e imprima la lista revertida. "
      ],
      "metadata": {
        "id": "XxofmjpZvXT1"
      }
    },
    {
      "cell_type": "code",
      "source": [
        "from google.colab import drive\n",
        "drive.mount('/content/drive')"
      ],
      "metadata": {
        "id": "Sac4JSwsYo_d"
      },
      "execution_count": null,
      "outputs": []
    },
    {
      "cell_type": "code",
      "source": [
        "lista = [1,2,3,4,5,6,7,8,9,10]\n",
        "ultimo_elemento = lista[9]\n",
        "def invertir_lista(lista):\n",
        "  if lista == []:\n",
        "    return lista\n",
        "  else:\n",
        "     return [lista[-1]] + invertir_lista(lista[:-1])\n",
        "\n",
        "print(ultimo_elemento)\n",
        "print(invertir_lista(lista))\n"
      ],
      "metadata": {
        "id": "afFGcGL_tg2M"
      },
      "execution_count": null,
      "outputs": []
    },
    {
      "cell_type": "markdown",
      "source": [
        "#### Ejercicio 3\n",
        "\n",
        "Escribe una función que toma una lista de strings y los imprima línea por línea en un marco rectangular. Por ejemplo, la lista [“Hola”, “a”, “todos”, “esto”, “es”, “un”, “marco”] se imprime: \n",
        "\n",
        "********** \n",
        "\n",
        "* Hola    * \n",
        "\n",
        "* a          *\n",
        "\n",
        "* todos  * \n",
        "\n",
        "* esto    * \n",
        "\n",
        "* es        * \n",
        "\n",
        "* un        * \n",
        "\n",
        "* marco * \n",
        "\n",
        "********** "
      ],
      "metadata": {
        "id": "Z7O7-ukgFttu"
      }
    },
    {
      "cell_type": "code",
      "source": [
        "lista = [\"**********\", \"* Hola   *\", \"* a      *\", \"* todos  *\", \"* esto   *\", \"* es     *\", \"* un     *\", \"* marco  *\", \"**********\"]\n",
        "resultado = \"\\n\".join([str(sublista) for sublista in lista])\n",
        "\n",
        "print(lista)\n",
        "print()\n",
        "print(resultado)"
      ],
      "metadata": {
        "id": "YGIHv8FwE7CQ"
      },
      "execution_count": null,
      "outputs": []
    }
  ]
}