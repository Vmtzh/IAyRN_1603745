{
  "nbformat": 4,
  "nbformat_minor": 0,
  "metadata": {
    "colab": {
      "provenance": [],
      "collapsed_sections": [],
      "include_colab_link": true
    },
    "kernelspec": {
      "name": "python3",
      "display_name": "Python 3"
    },
    "language_info": {
      "name": "python"
    }
  },
  "cells": [
    {
      "cell_type": "markdown",
      "metadata": {
        "id": "view-in-github",
        "colab_type": "text"
      },
      "source": [
        "<a href=\"https://colab.research.google.com/github/Vmtzh/IAyRN_1603745/blob/main/PIA.ipynb\" target=\"_parent\"><img src=\"https://colab.research.google.com/assets/colab-badge.svg\" alt=\"Open In Colab\"/></a>"
      ]
    },
    {
      "cell_type": "code",
      "execution_count": null,
      "metadata": {
        "id": "AWDUa3kd6EYB"
      },
      "outputs": [],
      "source": [
        "#PIA.- Entrenamiento de una red neuronal artificial\n",
        "#Jorge Luis Nava Ortiz 1991839\n",
        "#Victor David Martínez Hernández  1603745\n",
        "#Héctor Hugo Rasgado Nolasco 1853058\n",
        "#Luis Alberto Rivera Borrego 2035585\n",
        "#"
      ]
    },
    {
      "cell_type": "code",
      "source": [],
      "metadata": {
        "id": "U4XhulCY8ACS"
      },
      "execution_count": null,
      "outputs": []
    }
  ]
}