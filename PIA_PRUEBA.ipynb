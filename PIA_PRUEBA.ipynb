{
  "nbformat": 4,
  "nbformat_minor": 0,
  "metadata": {
    "colab": {
      "provenance": [],
      "authorship_tag": "ABX9TyO03i4y99tdJMluTbzkJ1Co",
      "include_colab_link": true
    },
    "kernelspec": {
      "name": "python3",
      "display_name": "Python 3"
    },
    "language_info": {
      "name": "python"
    }
  },
  "cells": [
    {
      "cell_type": "markdown",
      "metadata": {
        "id": "view-in-github",
        "colab_type": "text"
      },
      "source": [
        "<a href=\"https://colab.research.google.com/github/Vmtzh/IAyRN_1603745/blob/main/PIA_PRUEBA.ipynb\" target=\"_parent\"><img src=\"https://colab.research.google.com/assets/colab-badge.svg\" alt=\"Open In Colab\"/></a>"
      ]
    },
    {
      "cell_type": "code",
      "execution_count": 36,
      "metadata": {
        "id": "FJu-nLX9Gfyn"
      },
      "outputs": [],
      "source": [
        "import cv2\n",
        "import glob\n",
        "import matplotlib.pyplot as plt\n",
        "\n",
        "import tensorflow as tf\n",
        "from tensorflow import keras\n",
        "\n",
        "import numpy as np\n",
        "import matplotlib.pyplot as plt\n",
        "from sklearn.model_selection import train_test_split"
      ]
    },
    {
      "cell_type": "code",
      "source": [
        "imagenes_numero = []\n",
        "etiquetas_numero =[]\n",
        "num = 0"
      ],
      "metadata": {
        "id": "yNMvu_HeGzJM"
      },
      "execution_count": 37,
      "outputs": []
    },
    {
      "cell_type": "code",
      "source": [
        "for m in \"Numeros\":\n",
        "  path = glob.glob(\"/content/Numero/\" + str(num) + \"/*.jpeg\")\n",
        "  for n in path:\n",
        "    test_image = cv2.imread(n, cv2.IMREAD_GRAYSCALE)\n",
        "  \n",
        "    # Formato de imagen\n",
        "    img_resized = cv2.resize(test_image, (28, 28), interpolation=cv2.INTER_LINEAR)\n",
        "    img_resized = cv2.bitwise_not(img_resized)\n",
        "\n",
        "    #Guardar imagenes\n",
        "    imagenes_numero.append(img_resized)\n",
        "    etiquetas_numero.append(num)\n",
        "  num +=1"
      ],
      "metadata": {
        "id": "DBFiD-XKG44P"
      },
      "execution_count": 53,
      "outputs": []
    },
    {
      "cell_type": "code",
      "source": [
        "clas_names = [\"0\"]"
      ],
      "metadata": {
        "id": "k2ahCpNeK8IC"
      },
      "execution_count": 54,
      "outputs": []
    },
    {
      "cell_type": "code",
      "source": [
        "gde = len(imagenes_numero)\n",
        "plt.imshow(imagenes_numero[6], cmap='gray')\n",
        "print(gde)\n",
        "plt.xlabel(etiquetas_numero[6])"
      ],
      "metadata": {
        "colab": {
          "base_uri": "https://localhost:8080/",
          "height": 314
        },
        "id": "wJNlmX1pIfX4",
        "outputId": "f359ee14-3d3f-488b-e80a-2021ab7d0182"
      },
      "execution_count": 55,
      "outputs": [
        {
          "output_type": "stream",
          "name": "stdout",
          "text": [
            "10\n"
          ]
        },
        {
          "output_type": "execute_result",
          "data": {
            "text/plain": [
              "Text(0.5, 0, '0')"
            ]
          },
          "metadata": {},
          "execution_count": 55
        },
        {
          "output_type": "display_data",
          "data": {
            "text/plain": [
              "<Figure size 432x288 with 1 Axes>"
            ],
            "image/png": "[encoded data removed]"
          },
          "metadata": {
            "needs_background": "light"
          }
        }
      ]
    },
    {
      "cell_type": "code",
      "source": [
        "y = np.array(etiquetas_numero)\n",
        "X = np.array(imagenes_numero, dtype=np.uint8)"
      ],
      "metadata": {
        "id": "sKbh_E02IkYQ"
      },
      "execution_count": 56,
      "outputs": []
    },
    {
      "cell_type": "code",
      "source": [
        "train_X,test_X,train_Y,test_Y = train_test_split(X,y,test_size=0.2)\n",
        "print('Training data shape : ', train_X.shape, train_Y.shape)\n",
        "print('Testing data shape : ', test_X.shape, test_Y.shape)"
      ],
      "metadata": {
        "colab": {
          "base_uri": "https://localhost:8080/"
        },
        "id": "c3pSVcjANSAA",
        "outputId": "106e3aac-9b1e-40bf-a5c0-5908faedb118"
      },
      "execution_count": 57,
      "outputs": [
        {
          "output_type": "stream",
          "name": "stdout",
          "text": [
            "Training data shape :  (8, 28, 28) (8,)\n",
            "Testing data shape :  (2, 28, 28) (2,)\n"
          ]
        }
      ]
    },
    {
      "cell_type": "code",
      "source": [
        "train_X = train_X / 255.\n",
        "test_X = test_X / 255."
      ],
      "metadata": {
        "id": "iP2kg4joNVF-"
      },
      "execution_count": 58,
      "outputs": []
    },
    {
      "cell_type": "code",
      "source": [
        "plt.figure(figsize=(10,10))\n",
        "for i in range(8):\n",
        "    plt.subplot(5,5,i+1)\n",
        "    plt.xticks([])\n",
        "    plt.yticks([])\n",
        "    plt.grid(False)\n",
        "    plt.imshow(train_X[i], cmap=plt.cm.binary)\n",
        "    plt.xlabel([train_Y[i]])\n",
        "plt.show()"
      ],
      "metadata": {
        "colab": {
          "base_uri": "https://localhost:8080/",
          "height": 251
        },
        "id": "4-T6vuzJNYTB",
        "outputId": "23069b7d-b16d-485f-b090-08daad4f4ae0"
      },
      "execution_count": 63,
      "outputs": [
        {
          "output_type": "display_data",
          "data": {
            "text/plain": [
              "<Figure size 720x720 with 8 Axes>"
            ],
            "image/png": "[encoded data removed]"
          },
          "metadata": {}
        }
      ]
    },
    {
      "cell_type": "code",
      "source": [
        "model = keras.Sequential([\n",
        "    keras.layers.Flatten(input_shape=(28, 28)),\n",
        "    keras.layers.Dense(128, activation='relu'),\n",
        "    keras.layers.Dense(10, activation='softmax')\n",
        "])"
      ],
      "metadata": {
        "id": "9ZVLvaSmNaIN"
      },
      "execution_count": 64,
      "outputs": []
    },
    {
      "cell_type": "code",
      "source": [
        "model.compile(optimizer='adam',\n",
        "              loss='sparse_categorical_crossentropy',\n",
        "              metrics=['accuracy'])"
      ],
      "metadata": {
        "id": "fZcP5DFwN_H-"
      },
      "execution_count": 65,
      "outputs": []
    },
    {
      "cell_type": "code",
      "source": [
        "history = model.fit(train_X, train_Y, epochs=10, validation_data=(test_X, test_Y))"
      ],
      "metadata": {
        "colab": {
          "base_uri": "https://localhost:8080/"
        },
        "id": "VlHSX6yzOA3K",
        "outputId": "14a62851-5651-411d-c02e-1a1850bf79bc"
      },
      "execution_count": 66,
      "outputs": [
        {
          "output_type": "stream",
          "name": "stdout",
          "text": [
            "Epoch 1/10\n",
            "1/1 [==============================] - 1s 1s/step - loss: 2.2940 - accuracy: 0.0000e+00 - val_loss: 1.9140 - val_accuracy: 0.5000\n",
            "Epoch 2/10\n",
            "1/1 [==============================] - 0s 44ms/step - loss: 1.9411 - accuracy: 0.1250 - val_loss: 1.6540 - val_accuracy: 1.0000\n",
            "Epoch 3/10\n",
            "1/1 [==============================] - 0s 41ms/step - loss: 1.6252 - accuracy: 0.7500 - val_loss: 1.4082 - val_accuracy: 1.0000\n",
            "Epoch 4/10\n",
            "1/1 [==============================] - 0s 31ms/step - loss: 1.3499 - accuracy: 1.0000 - val_loss: 1.1732 - val_accuracy: 1.0000\n",
            "Epoch 5/10\n",
            "1/1 [==============================] - 0s 30ms/step - loss: 1.1120 - accuracy: 1.0000 - val_loss: 0.9618 - val_accuracy: 1.0000\n",
            "Epoch 6/10\n",
            "1/1 [==============================] - 0s 33ms/step - loss: 0.9052 - accuracy: 1.0000 - val_loss: 0.7813 - val_accuracy: 1.0000\n",
            "Epoch 7/10\n",
            "1/1 [==============================] - 0s 30ms/step - loss: 0.7284 - accuracy: 1.0000 - val_loss: 0.6195 - val_accuracy: 1.0000\n",
            "Epoch 8/10\n",
            "1/1 [==============================] - 0s 31ms/step - loss: 0.5796 - accuracy: 1.0000 - val_loss: 0.4840 - val_accuracy: 1.0000\n",
            "Epoch 9/10\n",
            "1/1 [==============================] - 0s 30ms/step - loss: 0.4560 - accuracy: 1.0000 - val_loss: 0.3707 - val_accuracy: 1.0000\n",
            "Epoch 10/10\n",
            "1/1 [==============================] - 0s 29ms/step - loss: 0.3556 - accuracy: 1.0000 - val_loss: 0.2796 - val_accuracy: 1.0000\n"
          ]
        }
      ]
    },
    {
      "cell_type": "code",
      "source": [
        "test_loss, test_acc = model.evaluate(test_X,  test_Y, verbose=2)\n",
        "\n",
        "print('\\nTest accuracy:', test_acc)"
      ],
      "metadata": {
        "colab": {
          "base_uri": "https://localhost:8080/"
        },
        "id": "-uk8h-r3OC83",
        "outputId": "69f5404a-4032-40ef-98a5-53bff38eb8d1"
      },
      "execution_count": 67,
      "outputs": [
        {
          "output_type": "stream",
          "name": "stdout",
          "text": [
            "1/1 - 0s - loss: 0.2796 - accuracy: 1.0000 - 28ms/epoch - 28ms/step\n",
            "\n",
            "Test accuracy: 1.0\n"
          ]
        }
      ]
    },
    {
      "cell_type": "code",
      "source": [
        "plt.plot(history.history['accuracy'], label='accuracy')\n",
        "plt.plot(history.history['val_accuracy'], label = 'val_accuracy')\n",
        "plt.xlabel('Epoch')\n",
        "plt.ylabel('Accuracy')\n",
        "plt.ylim([0.1, 1])\n",
        "plt.legend(loc='lower right')\n",
        "\n",
        "test_loss, test_acc = model.evaluate(test_X,  test_Y, verbose=2)"
      ],
      "metadata": {
        "colab": {
          "base_uri": "https://localhost:8080/",
          "height": 300
        },
        "id": "1yqPlJ8nOGPR",
        "outputId": "3fbffd44-0308-474e-e794-9178b7f41e44"
      },
      "execution_count": 68,
      "outputs": [
        {
          "output_type": "stream",
          "name": "stdout",
          "text": [
            "1/1 - 0s - loss: 0.2796 - accuracy: 1.0000 - 22ms/epoch - 22ms/step\n"
          ]
        },
        {
          "output_type": "display_data",
          "data": {
            "text/plain": [
              "<Figure size 432x288 with 1 Axes>"
            ],
            "image/png": "[encoded data removed]"
          },
          "metadata": {
            "needs_background": "light"
          }
        }
      ]
    },
    {
      "cell_type": "code",
      "source": [
        "predictions = model.predict(test_X)"
      ],
      "metadata": {
        "colab": {
          "base_uri": "https://localhost:8080/"
        },
        "id": "rPBa0vv9OHGU",
        "outputId": "2ddd5729-1988-4f77-81ab-5fe7a0b532ba"
      },
      "execution_count": 69,
      "outputs": [
        {
          "output_type": "stream",
          "name": "stdout",
          "text": [
            "1/1 [==============================] - 0s 207ms/step\n"
          ]
        }
      ]
    },
    {
      "cell_type": "markdown",
      "source": [
        "#1er Prediccion"
      ],
      "metadata": {
        "id": "RhomrKn9RQgt"
      }
    },
    {
      "cell_type": "code",
      "source": [
        "predictions[1]"
      ],
      "metadata": {
        "colab": {
          "base_uri": "https://localhost:8080/"
        },
        "id": "gwoZMOMhOM-O",
        "outputId": "fba3a46e-d402-460d-a61e-c219055f9977"
      },
      "execution_count": 85,
      "outputs": [
        {
          "output_type": "execute_result",
          "data": {
            "text/plain": [
              "array([0.7388702 , 0.02508624, 0.03295162, 0.0288072 , 0.02596413,\n",
              "       0.01547327, 0.07832973, 0.01735722, 0.01448941, 0.0226709 ],\n",
              "      dtype=float32)"
            ]
          },
          "metadata": {},
          "execution_count": 85
        }
      ]
    },
    {
      "cell_type": "code",
      "source": [
        "np.argmax(predictions[1])"
      ],
      "metadata": {
        "colab": {
          "base_uri": "https://localhost:8080/"
        },
        "id": "e2MBfHKROPgr",
        "outputId": "8afde10b-1ef1-4e4b-bfa8-5c33dbcb8ebe"
      },
      "execution_count": 86,
      "outputs": [
        {
          "output_type": "execute_result",
          "data": {
            "text/plain": [
              "0"
            ]
          },
          "metadata": {},
          "execution_count": 86
        }
      ]
    },
    {
      "cell_type": "code",
      "source": [
        "test_Y[1]"
      ],
      "metadata": {
        "colab": {
          "base_uri": "https://localhost:8080/"
        },
        "id": "cJVNNWokQ1cW",
        "outputId": "cf9b1748-a51c-4ee9-ab8a-2702e12c6a43"
      },
      "execution_count": 87,
      "outputs": [
        {
          "output_type": "execute_result",
          "data": {
            "text/plain": [
              "0"
            ]
          },
          "metadata": {},
          "execution_count": 87
        }
      ]
    },
    {
      "cell_type": "code",
      "source": [
        "plt.imshow(test_X[1])"
      ],
      "metadata": {
        "colab": {
          "base_uri": "https://localhost:8080/",
          "height": 282
        },
        "id": "6BiSC0llQ5HL",
        "outputId": "b8e10eee-ac33-4a6a-f6a9-37e60905e884"
      },
      "execution_count": 88,
      "outputs": [
        {
          "output_type": "execute_result",
          "data": {
            "text/plain": [
              "<matplotlib.image.AxesImage at 0x7fe8778dba90>"
            ]
          },
          "metadata": {},
          "execution_count": 88
        },
        {
          "output_type": "display_data",
          "data": {
            "text/plain": [
              "<Figure size 432x288 with 1 Axes>"
            ],
            "image/png": "[encoded data removed]"
          },
          "metadata": {
            "needs_background": "light"
          }
        }
      ]
    },
    {
      "cell_type": "code",
      "source": [],
      "metadata": {
        "id": "iuVngLWnQ7vF"
      },
      "execution_count": null,
      "outputs": []
    }
  ]
}