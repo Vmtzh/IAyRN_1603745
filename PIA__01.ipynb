{
  "nbformat": 4,
  "nbformat_minor": 0,
  "metadata": {
    "colab": {
      "provenance": [],
      "collapsed_sections": [],
      "include_colab_link": true
    },
    "kernelspec": {
      "name": "python3",
      "display_name": "Python 3"
    },
    "language_info": {
      "name": "python"
    }
  },
  "cells": [
    {
      "cell_type": "markdown",
      "metadata": {
        "id": "view-in-github",
        "colab_type": "text"
      },
      "source": [
        "<a href=\"https://colab.research.google.com/github/Vmtzh/IAyRN_1603745/blob/main/PIA__01.ipynb\" target=\"_parent\"><img src=\"https://colab.research.google.com/assets/colab-badge.svg\" alt=\"Open In Colab\"/></a>"
      ]
    },
    {
      "cell_type": "code",
      "execution_count": null,
      "metadata": {
        "id": "AWDUa3kd6EYB"
      },
      "outputs": [],
      "source": [
        "#PIA.- Entrenamiento de una red neuronal artificial\n",
        "#Jorge Luis Nava Ortiz 1991839\n",
        "#Victor David Martínez Hernández  1603745\n",
        "#Héctor Hugo Rasgado Nolasco 1853058\n",
        "#Luis Alberto Rivera Borrego 2035585\n",
        "#Mauricio Guevara Jiménez 1817333"
      ]
    },
    {
      "cell_type": "code",
      "source": [
        "from google.colab import files\n",
        "uploaded = files.upload()"
      ],
      "metadata": {
        "colab": {
          "base_uri": "https://localhost:8080/",
          "height": 73
        },
        "id": "5H6D6Zu0FLq8",
        "outputId": "96a59be8-7b87-40aa-e53f-771e2859b0bf"
      },
      "execution_count": 4,
      "outputs": [
        {
          "output_type": "display_data",
          "data": {
            "text/plain": [
              "<IPython.core.display.HTML object>"
            ],
            "text/html": [
              "\n",
              "     <input type=\"file\" id=\"files-1a63f811-0de7-46ae-9a66-1fcb98404cc9\" name=\"files[]\" multiple disabled\n",
              "        style=\"border:none\" />\n",
              "     <output id=\"result-1a63f811-0de7-46ae-9a66-1fcb98404cc9\">\n",
              "      Upload widget is only available when the cell has been executed in the\n",
              "      current browser session. Please rerun this cell to enable.\n",
              "      </output>\n",
              "      <script>// Copyright 2017 Google LLC\n",
              "//\n",
              "// Licensed under the Apache License, Version 2.0 (the \"License\");\n",
              "// you may not use this file except in compliance with the License.\n",
              "// You may obtain a copy of the License at\n",
              "//\n",
              "//      http://www.apache.org/licenses/LICENSE-2.0\n",
              "//\n",
              "// Unless required by applicable law or agreed to in writing, software\n",
              "// distributed under the License is distributed on an \"AS IS\" BASIS,\n",
              "// WITHOUT WARRANTIES OR CONDITIONS OF ANY KIND, either express or implied.\n",
              "// See the License for the specific language governing permissions and\n",
              "// limitations under the License.\n",
              "\n",
              "/**\n",
              " * @fileoverview Helpers for google.colab Python module.\n",
              " */\n",
              "(function(scope) {\n",
              "function span(text, styleAttributes = {}) {\n",
              "  const element = document.createElement('span');\n",
              "  element.textContent = text;\n",
              "  for (const key of Object.keys(styleAttributes)) {\n",
              "    element.style[key] = styleAttributes[key];\n",
              "  }\n",
              "  return element;\n",
              "}\n",
              "\n",
              "// Max number of bytes which will be uploaded at a time.\n",
              "const MAX_PAYLOAD_SIZE = 100 * 1024;\n",
              "\n",
              "function _uploadFiles(inputId, outputId) {\n",
              "  const steps = uploadFilesStep(inputId, outputId);\n",
              "  const outputElement = document.getElementById(outputId);\n",
              "  // Cache steps on the outputElement to make it available for the next call\n",
              "  // to uploadFilesContinue from Python.\n",
              "  outputElement.steps = steps;\n",
              "\n",
              "  return _uploadFilesContinue(outputId);\n",
              "}\n",
              "\n",
              "// This is roughly an async generator (not supported in the browser yet),\n",
              "// where there are multiple asynchronous steps and the Python side is going\n",
              "// to poll for completion of each step.\n",
              "// This uses a Promise to block the python side on completion of each step,\n",
              "// then passes the result of the previous step as the input to the next step.\n",
              "function _uploadFilesContinue(outputId) {\n",
              "  const outputElement = document.getElementById(outputId);\n",
              "  const steps = outputElement.steps;\n",
              "\n",
              "  const next = steps.next(outputElement.lastPromiseValue);\n",
              "  return Promise.resolve(next.value.promise).then((value) => {\n",
              "    // Cache the last promise value to make it available to the next\n",
              "    // step of the generator.\n",
              "    outputElement.lastPromiseValue = value;\n",
              "    return next.value.response;\n",
              "  });\n",
              "}\n",
              "\n",
              "/**\n",
              " * Generator function which is called between each async step of the upload\n",
              " * process.\n",
              " * @param {string} inputId Element ID of the input file picker element.\n",
              " * @param {string} outputId Element ID of the output display.\n",
              " * @return {!Iterable<!Object>} Iterable of next steps.\n",
              " */\n",
              "function* uploadFilesStep(inputId, outputId) {\n",
              "  const inputElement = document.getElementById(inputId);\n",
              "  inputElement.disabled = false;\n",
              "\n",
              "  const outputElement = document.getElementById(outputId);\n",
              "  outputElement.innerHTML = '';\n",
              "\n",
              "  const pickedPromise = new Promise((resolve) => {\n",
              "    inputElement.addEventListener('change', (e) => {\n",
              "      resolve(e.target.files);\n",
              "    });\n",
              "  });\n",
              "\n",
              "  const cancel = document.createElement('button');\n",
              "  inputElement.parentElement.appendChild(cancel);\n",
              "  cancel.textContent = 'Cancel upload';\n",
              "  const cancelPromise = new Promise((resolve) => {\n",
              "    cancel.onclick = () => {\n",
              "      resolve(null);\n",
              "    };\n",
              "  });\n",
              "\n",
              "  // Wait for the user to pick the files.\n",
              "  const files = yield {\n",
              "    promise: Promise.race([pickedPromise, cancelPromise]),\n",
              "    response: {\n",
              "      action: 'starting',\n",
              "    }\n",
              "  };\n",
              "\n",
              "  cancel.remove();\n",
              "\n",
              "  // Disable the input element since further picks are not allowed.\n",
              "  inputElement.disabled = true;\n",
              "\n",
              "  if (!files) {\n",
              "    return {\n",
              "      response: {\n",
              "        action: 'complete',\n",
              "      }\n",
              "    };\n",
              "  }\n",
              "\n",
              "  for (const file of files) {\n",
              "    const li = document.createElement('li');\n",
              "    li.append(span(file.name, {fontWeight: 'bold'}));\n",
              "    li.append(span(\n",
              "        `(${file.type || 'n/a'}) - ${file.size} bytes, ` +\n",
              "        `last modified: ${\n",
              "            file.lastModifiedDate ? file.lastModifiedDate.toLocaleDateString() :\n",
              "                                    'n/a'} - `));\n",
              "    const percent = span('0% done');\n",
              "    li.appendChild(percent);\n",
              "\n",
              "    outputElement.appendChild(li);\n",
              "\n",
              "    const fileDataPromise = new Promise((resolve) => {\n",
              "      const reader = new FileReader();\n",
              "      reader.onload = (e) => {\n",
              "        resolve(e.target.result);\n",
              "      };\n",
              "      reader.readAsArrayBuffer(file);\n",
              "    });\n",
              "    // Wait for the data to be ready.\n",
              "    let fileData = yield {\n",
              "      promise: fileDataPromise,\n",
              "      response: {\n",
              "        action: 'continue',\n",
              "      }\n",
              "    };\n",
              "\n",
              "    // Use a chunked sending to avoid message size limits. See b/62115660.\n",
              "    let position = 0;\n",
              "    do {\n",
              "      const length = Math.min(fileData.byteLength - position, MAX_PAYLOAD_SIZE);\n",
              "      const chunk = new Uint8Array(fileData, position, length);\n",
              "      position += length;\n",
              "\n",
              "      const base64 = btoa(String.fromCharCode.apply(null, chunk));\n",
              "      yield {\n",
              "        response: {\n",
              "          action: 'append',\n",
              "          file: file.name,\n",
              "          data: base64,\n",
              "        },\n",
              "      };\n",
              "\n",
              "      let percentDone = fileData.byteLength === 0 ?\n",
              "          100 :\n",
              "          Math.round((position / fileData.byteLength) * 100);\n",
              "      percent.textContent = `${percentDone}% done`;\n",
              "\n",
              "    } while (position < fileData.byteLength);\n",
              "  }\n",
              "\n",
              "  // All done.\n",
              "  yield {\n",
              "    response: {\n",
              "      action: 'complete',\n",
              "    }\n",
              "  };\n",
              "}\n",
              "\n",
              "scope.google = scope.google || {};\n",
              "scope.google.colab = scope.google.colab || {};\n",
              "scope.google.colab._files = {\n",
              "  _uploadFiles,\n",
              "  _uploadFilesContinue,\n",
              "};\n",
              "})(self);\n",
              "</script> "
            ]
          },
          "metadata": {}
        },
        {
          "output_type": "stream",
          "name": "stdout",
          "text": [
            "Saving Numeros_500.zip to Numeros_500.zip\n"
          ]
        }
      ]
    },
    {
      "cell_type": "code",
      "source": [
        "import zipfile\n",
        "import io\n",
        "data = zipfile.ZipFile(io.BytesIO(uploaded[\"Numeros_500.zip\"]),\"r\")\n",
        "data.extractall()"
      ],
      "metadata": {
        "id": "CHe8eazxGepR"
      },
      "execution_count": 6,
      "outputs": []
    },
    {
      "cell_type": "code",
      "source": [
        "import cv2\n",
        "import numpy as np\n",
        "import os\n",
        "import matplotlib.pyplot as plt\n",
        "\n",
        "ruta_cero=\"/content/Numeros_500/cero\"\n",
        "cero_training=[]\n",
        "img_size=100\n",
        "\n",
        "for img in os.listdir(ruta_cero):\n",
        "  img = cv2.imread(os.path.join(ruta_cero,img))\n",
        "  img_gray = cv2.cvtColor(img,cv2.COLOR_BGR2GRAY)\n",
        "  img_gray_resize = cv2.resize(img,(28,28))\n",
        "  cero_training.append([img_gray_resize ])\n",
        "\n",
        "print(len(cero_training))\n",
        "print(cero_training)"
      ],
      "metadata": {
        "id": "jRAKWmN6i31L"
      },
      "execution_count": null,
      "outputs": []
    },
    {
      "cell_type": "code",
      "source": [
        "ruta_uno=\"/content/Numeros_500/uno\"\n",
        "uno_training=[]\n",
        "img_size=100\n",
        "\n",
        "for img in os.listdir(ruta_uno):\n",
        "  img = cv2.imread(os.path.join(ruta_uno,img))\n",
        "  img_gray = cv2.cvtColor(img,cv2.COLOR_BGR2GRAY)\n",
        "  img_gray_resize = cv2.resize(img,(28,28))\n",
        "  uno_training.append([img_gray_resize ])\n",
        "\n",
        "print(len(uno_training))\n",
        "print(uno_training)"
      ],
      "metadata": {
        "id": "FWLRevWcxSP8"
      },
      "execution_count": null,
      "outputs": []
    },
    {
      "cell_type": "code",
      "source": [
        "ruta_dos=\"/content/Numeros_500/dos\"\n",
        "dos_training=[]\n",
        "img_size=100\n",
        "\n",
        "for img in os.listdir(ruta_dos):\n",
        "  img = cv2.imread(os.path.join(ruta_dos,img))\n",
        "  img_gray = cv2.cvtColor(img,cv2.COLOR_BGR2GRAY)\n",
        "  img_gray_resize = cv2.resize(img,(28,28))\n",
        "  dos_training.append([img_gray_resize ])\n",
        "\n",
        "print(len(dos_training))\n",
        "print(dos_training)"
      ],
      "metadata": {
        "id": "EAkSI1PVxxtU"
      },
      "execution_count": null,
      "outputs": []
    },
    {
      "cell_type": "code",
      "source": [
        "ruta_tres=\"/content/Numeros_500/tres\"\n",
        "tres_training=[]\n",
        "img_size=100\n",
        "\n",
        "for img in os.listdir(ruta_tres):\n",
        "  img = cv2.imread(os.path.join(ruta_tres,img))\n",
        "  img_gray = cv2.cvtColor(img,cv2.COLOR_BGR2GRAY)\n",
        "  img_gray_resize = cv2.resize(img,(28,28))\n",
        "  tres_training.append([img_gray_resize ])\n",
        "\n",
        "print(len(tres_training))\n",
        "print(tres_training)"
      ],
      "metadata": {
        "id": "IBEi5vF_yBIm"
      },
      "execution_count": null,
      "outputs": []
    },
    {
      "cell_type": "code",
      "source": [
        "ruta_cuatro=\"/content/Numeros_500/cuatro\"\n",
        "cuatro_training=[]\n",
        "img_size=100\n",
        "\n",
        "for img in os.listdir(ruta_cuatro):\n",
        "  img = cv2.imread(os.path.join(ruta_cuatro,img))\n",
        "  img_gray = cv2.cvtColor(img,cv2.COLOR_BGR2GRAY)\n",
        "  img_gray_resize = cv2.resize(img,(28,28))\n",
        "  cuatro_training.append([img_gray_resize ])\n",
        "\n",
        "print(len(cuatro_training))\n",
        "print(cuatro_training)"
      ],
      "metadata": {
        "id": "Cw1AhWLcyOho"
      },
      "execution_count": null,
      "outputs": []
    },
    {
      "cell_type": "code",
      "source": [
        "ruta_cinco=\"/content/Numeros_500/cinco\"\n",
        "cinco_training=[]\n",
        "img_size=100\n",
        "\n",
        "for img in os.listdir(ruta_cinco):\n",
        "  img = cv2.imread(os.path.join(ruta_cinco,img))\n",
        "  img_gray = cv2.cvtColor(img,cv2.COLOR_BGR2GRAY)\n",
        "  img_gray_resize = cv2.resize(img,(28,28))\n",
        "  cinco_training.append([img_gray_resize ])\n",
        "\n",
        "print(len(cinco_training))\n",
        "print(cinco_training)"
      ],
      "metadata": {
        "id": "1qDJhTxfyb9o"
      },
      "execution_count": null,
      "outputs": []
    },
    {
      "cell_type": "code",
      "source": [
        "ruta_seis=\"/content/Numeros_500/seis\"\n",
        "seis_training=[]\n",
        "img_size=100\n",
        "\n",
        "for img in os.listdir(ruta_seis):\n",
        "  img = cv2.imread(os.path.join(ruta_seis,img))\n",
        "  img_gray = cv2.cvtColor(img,cv2.COLOR_BGR2GRAY)\n",
        "  img_gray_resize = cv2.resize(img,(28,28))\n",
        "  seis_training.append([img_gray_resize ])\n",
        "\n",
        "print(len(seis_training))\n",
        "print(seis_training)"
      ],
      "metadata": {
        "id": "mQjY26PQyqbR"
      },
      "execution_count": null,
      "outputs": []
    },
    {
      "cell_type": "code",
      "source": [
        "ruta_siete=\"/content/Numeros_500/siete\"\n",
        "siete_training=[]\n",
        "img_size=100\n",
        "\n",
        "for img in os.listdir(ruta_siete):\n",
        "  img = cv2.imread(os.path.join(ruta_siete,img))\n",
        "  img_gray = cv2.cvtColor(img,cv2.COLOR_BGR2GRAY)\n",
        "  img_gray_resize = cv2.resize(img,(28,28))\n",
        "  siete_training.append([img_gray_resize ])\n",
        "\n",
        "print(len(siete_training))\n",
        "print(siete_training)"
      ],
      "metadata": {
        "id": "bRpsK8Qwy2BB"
      },
      "execution_count": null,
      "outputs": []
    },
    {
      "cell_type": "code",
      "source": [
        "ruta_ocho=\"/content/Numeros_500/ocho\"\n",
        "ocho_training=[]\n",
        "img_size=100\n",
        "\n",
        "for img in os.listdir(ruta_ocho):\n",
        "  img = cv2.imread(os.path.join(ruta_ocho,img))\n",
        "  img_gray = cv2.cvtColor(img,cv2.COLOR_BGR2GRAY)\n",
        "  img_gray_resize = cv2.resize(img,(28,28))\n",
        "  ocho_training.append([img_gray_resize ])\n",
        "\n",
        "print(len(ocho_training))\n",
        "print(ocho_training)"
      ],
      "metadata": {
        "id": "K1n8Sy7ezCQ0"
      },
      "execution_count": null,
      "outputs": []
    },
    {
      "cell_type": "code",
      "source": [
        "ruta_nueve=\"/content/Numeros_500/nueve\"\n",
        "nueve_training=[]\n",
        "img_size=100\n",
        "\n",
        "for img in os.listdir(ruta_nueve):\n",
        "  img = cv2.imread(os.path.join(ruta_nueve,img))\n",
        "  img_gray = cv2.cvtColor(img,cv2.COLOR_BGR2GRAY)\n",
        "  img_gray_resize = cv2.resize(img,(28,28))\n",
        "  nueve_training.append([img_gray_resize ])\n",
        "\n",
        "print(len(nueve_training))\n",
        "print(nueve_training)"
      ],
      "metadata": {
        "id": "IquKqh-jzNLA"
      },
      "execution_count": null,
      "outputs": []
    },
    {
      "cell_type": "code",
      "source": [
        "plt.figure()\n",
        "plt.imshow(np.squeeze(cero_training[9]))\n",
        "plt.colormaps()\n",
        "plt.grid(False)\n",
        "plt.show()\n",
        "\n",
        "plt.figure()\n",
        "plt.imshow(np.squeeze(uno_training[1]))\n",
        "plt.colormaps()\n",
        "plt.grid(False)\n",
        "plt.show\n",
        "\n",
        "plt.figure()\n",
        "plt.imshow(np.squeeze(dos_training[9]))\n",
        "plt.colormaps()\n",
        "plt.grid(False)\n",
        "plt.show()\n",
        "\n",
        "plt.figure()\n",
        "plt.imshow(np.squeeze(tres_training[9]))\n",
        "plt.colormaps()\n",
        "plt.grid(False)\n",
        "plt.show()\n",
        "\n",
        "plt.figure()\n",
        "plt.imshow(np.squeeze(cuatro_training[9]))\n",
        "plt.colormaps()\n",
        "plt.grid(False)\n",
        "plt.show()\n",
        "\n",
        "plt.figure()\n",
        "plt.imshow(np.squeeze(cinco_training[9]))\n",
        "plt.colormaps()\n",
        "plt.grid(False)\n",
        "plt.show()\n",
        "\n",
        "plt.figure()\n",
        "plt.imshow(np.squeeze(seis_training[9]))\n",
        "plt.colormaps()\n",
        "plt.grid(False)\n",
        "plt.show()\n",
        "\n",
        "plt.figure()\n",
        "plt.imshow(np.squeeze(siete_training[9]))\n",
        "plt.colormaps()\n",
        "plt.grid(False)\n",
        "plt.show()\n",
        "\n",
        "plt.figure()\n",
        "plt.imshow(np.squeeze(ocho_training[9]))\n",
        "plt.colormaps()\n",
        "plt.grid(False)\n",
        "plt.show()\n",
        "\n",
        "plt.figure()\n",
        "plt.imshow(np.squeeze(nueve_training[9]))\n",
        "plt.colormaps()\n",
        "plt.grid(False)\n",
        "plt.show()"
      ],
      "metadata": {
        "id": "iLwhBRCl1chK"
      },
      "execution_count": null,
      "outputs": []
    },
    {
      "cell_type": "code",
      "source": [
        "images = np.concatenate([cero_training,uno_training,dos_training,tres_training,cuatro_training,cinco_training,seis_training,siete_training,ocho_training,nueve_training])\n",
        "print(len(images))\n",
        "Images = np.array(images)\n",
        "print(Images.shape)"
      ],
      "metadata": {
        "id": "R3R9Kumrr22E"
      },
      "execution_count": null,
      "outputs": []
    },
    {
      "cell_type": "code",
      "source": [
        "etiquetas_cero = np.repeat(0,50)\n",
        "print(len(etiquetas_cero))\n",
        "print(etiquetas_cero)\n",
        "\n",
        "etiquetas_uno = np.repeat(1,50)\n",
        "print(len(etiquetas_uno))\n",
        "print(etiquetas_uno)\n",
        "\n",
        "etiquetas_dos = np.repeat(2,50)\n",
        "print(len(etiquetas_dos))\n",
        "print(etiquetas_dos)\n",
        "\n",
        "etiquetas_tres = np.repeat(3,50)\n",
        "print(len(etiquetas_tres))\n",
        "print(etiquetas_tres)\n",
        "\n",
        "etiquetas_cuatro = np.repeat(4,50)\n",
        "print(len(etiquetas_cuatro))\n",
        "print(etiquetas_cuatro)\n",
        "\n",
        "etiquetas_cinco = np.repeat(5,50)\n",
        "print(len(etiquetas_cinco))\n",
        "print(etiquetas_cinco)\n",
        "\n",
        "etiquetas_seis = np.repeat(6,50)\n",
        "print(len(etiquetas_seis))\n",
        "print(etiquetas_seis)\n",
        "\n",
        "etiquetas_siete = np.repeat(7,50)\n",
        "print(len(etiquetas_siete))\n",
        "print(etiquetas_siete)\n",
        "\n",
        "etiquetas_ocho = np.repeat(8,50)\n",
        "print(len(etiquetas_ocho))\n",
        "print(etiquetas_ocho)\n",
        "\n",
        "etiquetas_nueve = np.repeat(9,50)\n",
        "print(len(etiquetas_nueve))\n",
        "print(etiquetas_nueve)"
      ],
      "metadata": {
        "id": "OoYxR5xQ4gO-"
      },
      "execution_count": null,
      "outputs": []
    },
    {
      "cell_type": "code",
      "source": [
        "class_names=[\"cero\",\"uno\",\"dos\",\"tres\",\"cuatro\",\"cinco\",\"seis\",\"siete\",\"ocho\",\"nueve\"]"
      ],
      "metadata": {
        "id": "cQwsQqtZ7Adc"
      },
      "execution_count": 29,
      "outputs": []
    },
    {
      "cell_type": "code",
      "source": [
        "labels = np.concatenate([etiquetas_cero,etiquetas_uno,etiquetas_dos,etiquetas_tres,etiquetas_cuatro,etiquetas_cinco,etiquetas_seis,etiquetas_siete,etiquetas_ocho,etiquetas_nueve])\n",
        "print(len(labels))\n",
        "print(labels)\n",
        "Labels = np.array(labels)\n",
        "print(Labels.shape)"
      ],
      "metadata": {
        "id": "qikqjdH4_BHI"
      },
      "execution_count": null,
      "outputs": []
    },
    {
      "cell_type": "code",
      "source": [
        "plt.figure(figsize=(28,28))\n",
        "for i in range(30):\n",
        "    plt.subplot(10,10,1)\n",
        "    plt.xticks([])\n",
        "    plt.yticks([])\n",
        "    plt.grid(False)\n",
        "    plt.imshow(np.squeeze(cero_training[8]))\n",
        "    plt.xlabel(etiquetas_cero[i])\n",
        "plt.show()"
      ],
      "metadata": {
        "id": "keNTe7kyBD94"
      },
      "execution_count": null,
      "outputs": []
    },
    {
      "cell_type": "code",
      "source": [
        "from __future__ import absolute_import, division, print_function, unicode_literals\n",
        "\n",
        "variable_name = \"\"\n",
        "try:\n",
        "\n",
        "\n",
        "  %tensorflow_version 2.x\n",
        "except Exception:\n",
        "  pass\n",
        "\n",
        "\n",
        "from __future__ import absolute_import, division, print_function, unicode_literals\n",
        "\n",
        "\n",
        "import tensorflow as tf\n",
        "from tensorflow import keras\n",
        "from tensorflow.keras import datasets, layers, models\n",
        "import tensorflow.keras.optimizers as Optimizer\n",
        "\n",
        "# Librerias\n",
        "import numpy as np\n",
        "import matplotlib.pyplot as plt\n",
        "print(tf.__version__)"
      ],
      "metadata": {
        "id": "Et3HCvj0dKDd"
      },
      "execution_count": null,
      "outputs": []
    },
    {
      "cell_type": "code",
      "source": [
        "model = keras.Sequential([\n",
        "    keras.layers.Flatten(input_shape=(28, 28,3)),\n",
        "    keras.layers.Dense(128, activation='relu'),\n",
        "    \n",
        "    keras.layers.Dense(2, activation='softmax'),\n",
        "    \n",
        "])\n",
        "model.compile(optimizer='adam',\n",
        "              loss='sparse_categorical_crossentropy',\n",
        "              metrics=['accuracy'])\n",
        "model.fit(Images, Labels, epochs=30)\n",
        "trained=model.fit(Images, Labels, epochs=30)"
      ],
      "metadata": {
        "id": "_LfKryQndZTs"
      },
      "execution_count": null,
      "outputs": []
    },
    {
      "cell_type": "code",
      "source": [
        "img=Images[8]\n",
        "print(img.shape)\n",
        "img = (np.expand_dims(img,0))\n",
        "print(img.shape)"
      ],
      "metadata": {
        "id": "w5RqaxMle-kG"
      },
      "execution_count": null,
      "outputs": []
    },
    {
      "cell_type": "code",
      "source": [
        "plt.figure()\n",
        "plt.imshow(Images[8])\n",
        "plt.colormaps()\n",
        "plt.grid(False)\n",
        "plt.show"
      ],
      "metadata": {
        "id": "dlr-3HtRfP_S"
      },
      "execution_count": null,
      "outputs": []
    },
    {
      "cell_type": "code",
      "source": [
        "predictions_single = model.predict(img)\n",
        "print(predictions_single)\n",
        "print(np.sum(predictions_single))\n",
        "print(np.argmax(predictions_single))\n",
        "print(class_names[np.argmax(predictions_single)])"
      ],
      "metadata": {
        "id": "fJfwuGs3eNuq"
      },
      "execution_count": null,
      "outputs": []
    }
  ]
}